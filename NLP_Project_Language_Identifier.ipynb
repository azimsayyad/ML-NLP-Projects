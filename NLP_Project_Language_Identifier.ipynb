{
  "nbformat": 4,
  "nbformat_minor": 0,
  "metadata": {
    "colab": {
      "name": "NLP Project Language Identifier.ipynb",
      "provenance": [],
      "collapsed_sections": []
    },
    "kernelspec": {
      "name": "python3",
      "display_name": "Python 3"
    },
    "language_info": {
      "name": "python"
    }
  },
  "cells": [
    {
      "cell_type": "markdown",
      "source": [
        "# **Text Language Identifier**\n",
        "###**Problem Statement** : To determine in which language a particular text is written."
      ],
      "metadata": {
        "id": "UzA6USF5sswy"
      }
    },
    {
      "cell_type": "code",
      "source": [
        "from google.colab import drive\n",
        "drive.mount('/content/drive')"
      ],
      "metadata": {
        "colab": {
          "base_uri": "https://localhost:8080/"
        },
        "id": "JfvE58pCTtOM",
        "outputId": "932eef1a-934e-4b30-9b83-075548ad3374"
      },
      "execution_count": 1,
      "outputs": [
        {
          "output_type": "stream",
          "name": "stdout",
          "text": [
            "Drive already mounted at /content/drive; to attempt to forcibly remount, call drive.mount(\"/content/drive\", force_remount=True).\n"
          ]
        }
      ]
    },
    {
      "cell_type": "code",
      "source": [
        "#importing all the required modules\n",
        "import pandas as pd\n",
        "import numpy as np\n",
        "import matplotlib.pyplot as plt\n",
        "import seaborn as sns\n",
        "import re \n",
        "import warnings\n",
        "warnings.filterwarnings('ignore')\n",
        "\n",
        "import nltk\n",
        "from nltk.stem import PorterStemmer\n",
        "from sklearn.feature_extraction.text import TfidfVectorizer"
      ],
      "metadata": {
        "id": "nYprxTKteplX"
      },
      "execution_count": 2,
      "outputs": []
    },
    {
      "cell_type": "code",
      "source": [
        "#Reading the CSV file\n",
        "df = pd.read_csv('/content/drive/MyDrive/Colab Notebooks/NLP dataset.csv')"
      ],
      "metadata": {
        "id": "a8DC5VM-kjSo"
      },
      "execution_count": 3,
      "outputs": []
    },
    {
      "cell_type": "code",
      "source": [
        "#Displaying top 5 rows\n",
        "df.head()"
      ],
      "metadata": {
        "colab": {
          "base_uri": "https://localhost:8080/",
          "height": 206
        },
        "id": "B2GlQnQJkzpn",
        "outputId": "89c0271b-630e-44ac-b4c6-8e884a040eb2"
      },
      "execution_count": 4,
      "outputs": [
        {
          "output_type": "execute_result",
          "data": {
            "text/plain": [
              "                                                Text  Language\n",
              "0  klement gottwaldi surnukeha palsameeriti ning ...  Estonian\n",
              "1  sebes joseph pereira thomas  på eng the jesuit...   Swedish\n",
              "2  ถนนเจริญกรุง อักษรโรมัน thanon charoen krung เ...      Thai\n",
              "3  விசாகப்பட்டினம் தமிழ்ச்சங்கத்தை இந்துப் பத்திர...     Tamil\n",
              "4  de spons behoort tot het geslacht haliclona en...     Dutch"
            ],
            "text/html": [
              "\n",
              "  <div id=\"df-1d9ca7dd-0520-4dce-8815-a2845dfacebd\">\n",
              "    <div class=\"colab-df-container\">\n",
              "      <div>\n",
              "<style scoped>\n",
              "    .dataframe tbody tr th:only-of-type {\n",
              "        vertical-align: middle;\n",
              "    }\n",
              "\n",
              "    .dataframe tbody tr th {\n",
              "        vertical-align: top;\n",
              "    }\n",
              "\n",
              "    .dataframe thead th {\n",
              "        text-align: right;\n",
              "    }\n",
              "</style>\n",
              "<table border=\"1\" class=\"dataframe\">\n",
              "  <thead>\n",
              "    <tr style=\"text-align: right;\">\n",
              "      <th></th>\n",
              "      <th>Text</th>\n",
              "      <th>Language</th>\n",
              "    </tr>\n",
              "  </thead>\n",
              "  <tbody>\n",
              "    <tr>\n",
              "      <th>0</th>\n",
              "      <td>klement gottwaldi surnukeha palsameeriti ning ...</td>\n",
              "      <td>Estonian</td>\n",
              "    </tr>\n",
              "    <tr>\n",
              "      <th>1</th>\n",
              "      <td>sebes joseph pereira thomas  på eng the jesuit...</td>\n",
              "      <td>Swedish</td>\n",
              "    </tr>\n",
              "    <tr>\n",
              "      <th>2</th>\n",
              "      <td>ถนนเจริญกรุง อักษรโรมัน thanon charoen krung เ...</td>\n",
              "      <td>Thai</td>\n",
              "    </tr>\n",
              "    <tr>\n",
              "      <th>3</th>\n",
              "      <td>விசாகப்பட்டினம் தமிழ்ச்சங்கத்தை இந்துப் பத்திர...</td>\n",
              "      <td>Tamil</td>\n",
              "    </tr>\n",
              "    <tr>\n",
              "      <th>4</th>\n",
              "      <td>de spons behoort tot het geslacht haliclona en...</td>\n",
              "      <td>Dutch</td>\n",
              "    </tr>\n",
              "  </tbody>\n",
              "</table>\n",
              "</div>\n",
              "      <button class=\"colab-df-convert\" onclick=\"convertToInteractive('df-1d9ca7dd-0520-4dce-8815-a2845dfacebd')\"\n",
              "              title=\"Convert this dataframe to an interactive table.\"\n",
              "              style=\"display:none;\">\n",
              "        \n",
              "  <svg xmlns=\"http://www.w3.org/2000/svg\" height=\"24px\"viewBox=\"0 0 24 24\"\n",
              "       width=\"24px\">\n",
              "    <path d=\"M0 0h24v24H0V0z\" fill=\"none\"/>\n",
              "    <path d=\"M18.56 5.44l.94 2.06.94-2.06 2.06-.94-2.06-.94-.94-2.06-.94 2.06-2.06.94zm-11 1L8.5 8.5l.94-2.06 2.06-.94-2.06-.94L8.5 2.5l-.94 2.06-2.06.94zm10 10l.94 2.06.94-2.06 2.06-.94-2.06-.94-.94-2.06-.94 2.06-2.06.94z\"/><path d=\"M17.41 7.96l-1.37-1.37c-.4-.4-.92-.59-1.43-.59-.52 0-1.04.2-1.43.59L10.3 9.45l-7.72 7.72c-.78.78-.78 2.05 0 2.83L4 21.41c.39.39.9.59 1.41.59.51 0 1.02-.2 1.41-.59l7.78-7.78 2.81-2.81c.8-.78.8-2.07 0-2.86zM5.41 20L4 18.59l7.72-7.72 1.47 1.35L5.41 20z\"/>\n",
              "  </svg>\n",
              "      </button>\n",
              "      \n",
              "  <style>\n",
              "    .colab-df-container {\n",
              "      display:flex;\n",
              "      flex-wrap:wrap;\n",
              "      gap: 12px;\n",
              "    }\n",
              "\n",
              "    .colab-df-convert {\n",
              "      background-color: #E8F0FE;\n",
              "      border: none;\n",
              "      border-radius: 50%;\n",
              "      cursor: pointer;\n",
              "      display: none;\n",
              "      fill: #1967D2;\n",
              "      height: 32px;\n",
              "      padding: 0 0 0 0;\n",
              "      width: 32px;\n",
              "    }\n",
              "\n",
              "    .colab-df-convert:hover {\n",
              "      background-color: #E2EBFA;\n",
              "      box-shadow: 0px 1px 2px rgba(60, 64, 67, 0.3), 0px 1px 3px 1px rgba(60, 64, 67, 0.15);\n",
              "      fill: #174EA6;\n",
              "    }\n",
              "\n",
              "    [theme=dark] .colab-df-convert {\n",
              "      background-color: #3B4455;\n",
              "      fill: #D2E3FC;\n",
              "    }\n",
              "\n",
              "    [theme=dark] .colab-df-convert:hover {\n",
              "      background-color: #434B5C;\n",
              "      box-shadow: 0px 1px 3px 1px rgba(0, 0, 0, 0.15);\n",
              "      filter: drop-shadow(0px 1px 2px rgba(0, 0, 0, 0.3));\n",
              "      fill: #FFFFFF;\n",
              "    }\n",
              "  </style>\n",
              "\n",
              "      <script>\n",
              "        const buttonEl =\n",
              "          document.querySelector('#df-1d9ca7dd-0520-4dce-8815-a2845dfacebd button.colab-df-convert');\n",
              "        buttonEl.style.display =\n",
              "          google.colab.kernel.accessAllowed ? 'block' : 'none';\n",
              "\n",
              "        async function convertToInteractive(key) {\n",
              "          const element = document.querySelector('#df-1d9ca7dd-0520-4dce-8815-a2845dfacebd');\n",
              "          const dataTable =\n",
              "            await google.colab.kernel.invokeFunction('convertToInteractive',\n",
              "                                                     [key], {});\n",
              "          if (!dataTable) return;\n",
              "\n",
              "          const docLinkHtml = 'Like what you see? Visit the ' +\n",
              "            '<a target=\"_blank\" href=https://colab.research.google.com/notebooks/data_table.ipynb>data table notebook</a>'\n",
              "            + ' to learn more about interactive tables.';\n",
              "          element.innerHTML = '';\n",
              "          dataTable['output_type'] = 'display_data';\n",
              "          await google.colab.output.renderOutput(dataTable, element);\n",
              "          const docLink = document.createElement('div');\n",
              "          docLink.innerHTML = docLinkHtml;\n",
              "          element.appendChild(docLink);\n",
              "        }\n",
              "      </script>\n",
              "    </div>\n",
              "  </div>\n",
              "  "
            ]
          },
          "metadata": {},
          "execution_count": 4
        }
      ]
    },
    {
      "cell_type": "code",
      "source": [
        "#Displaying the shpae i.e no.of.rows and no.of.columns\n",
        "df.shape"
      ],
      "metadata": {
        "colab": {
          "base_uri": "https://localhost:8080/"
        },
        "id": "4PW8jhTEVk4M",
        "outputId": "a2d74d1a-72f6-444a-83f1-02746390e7b7"
      },
      "execution_count": 5,
      "outputs": [
        {
          "output_type": "execute_result",
          "data": {
            "text/plain": [
              "(22000, 2)"
            ]
          },
          "metadata": {},
          "execution_count": 5
        }
      ]
    },
    {
      "cell_type": "code",
      "source": [
        "#to check the value count of each language\n",
        "df['Language'].value_counts()"
      ],
      "metadata": {
        "colab": {
          "base_uri": "https://localhost:8080/"
        },
        "id": "pcR5RAWDVqbL",
        "outputId": "b62a87e6-350a-4e66-d0fd-47d0c6850bc3"
      },
      "execution_count": 6,
      "outputs": [
        {
          "output_type": "execute_result",
          "data": {
            "text/plain": [
              "Estonian      1000\n",
              "Swedish       1000\n",
              "English       1000\n",
              "Russian       1000\n",
              "Romanian      1000\n",
              "Persian       1000\n",
              "Pushto        1000\n",
              "Spanish       1000\n",
              "Hindi         1000\n",
              "Korean        1000\n",
              "Chinese       1000\n",
              "French        1000\n",
              "Portugese     1000\n",
              "Indonesian    1000\n",
              "Urdu          1000\n",
              "Latin         1000\n",
              "Turkish       1000\n",
              "Japanese      1000\n",
              "Dutch         1000\n",
              "Tamil         1000\n",
              "Thai          1000\n",
              "Arabic        1000\n",
              "Name: Language, dtype: int64"
            ]
          },
          "metadata": {},
          "execution_count": 6
        }
      ]
    },
    {
      "cell_type": "code",
      "source": [
        "#Storing Text column in X variable and Language column in Y variable\n",
        "X = df['Text']\n",
        "Y = df['Language']"
      ],
      "metadata": {
        "id": "DYs4BFzlV7u5"
      },
      "execution_count": 7,
      "outputs": []
    },
    {
      "cell_type": "code",
      "source": [
        "#Importing LabelEncoder library to encode Y variable\n",
        "from sklearn.preprocessing import LabelEncoder\n",
        "le = LabelEncoder()\n",
        "Y = le.fit_transform(Y)"
      ],
      "metadata": {
        "id": "Vkgkw3NkWE6M"
      },
      "execution_count": 8,
      "outputs": []
    },
    {
      "cell_type": "code",
      "source": [
        "#Data cleaning and preprocessing\n",
        "data_list = []\n",
        "for text in X:\n",
        "  text = re.sub(r'[!@#$(),n\"%^*?:;~`0-9]', ' ', text)\n",
        "  text = re.sub(r'[[]]', ' ', text)\n",
        "  text = text.lower()\n",
        "  data_list.append(text)"
      ],
      "metadata": {
        "id": "BTywQ6U7Yg2z"
      },
      "execution_count": 9,
      "outputs": []
    },
    {
      "cell_type": "code",
      "source": [
        "#Vectorizing the text into numerical form with Tfidf vectorizer\n",
        "from sklearn.feature_extraction.text import TfidfVectorizer\n",
        "tf = TfidfVectorizer()\n",
        "X = tf.fit_transform(data_list)"
      ],
      "metadata": {
        "id": "swqkgTyRf3X4"
      },
      "execution_count": 10,
      "outputs": []
    },
    {
      "cell_type": "code",
      "source": [
        "print(X)"
      ],
      "metadata": {
        "colab": {
          "base_uri": "https://localhost:8080/"
        },
        "id": "C2ltY4wdhs9I",
        "outputId": "2e5f51d9-edd3-42ff-da5a-225274613d1e"
      },
      "execution_count": 11,
      "outputs": [
        {
          "output_type": "stream",
          "name": "stdout",
          "text": [
            "  (0, 36177)\t0.15624603541823798\n",
            "  (0, 97660)\t0.15624603541823798\n",
            "  (0, 59002)\t0.14235402908773076\n",
            "  (0, 38330)\t0.15624603541823798\n",
            "  (0, 5664)\t0.060484346258163214\n",
            "  (0, 90335)\t0.1213362348760253\n",
            "  (0, 36176)\t0.15624603541823798\n",
            "  (0, 42053)\t0.18834225986691777\n",
            "  (0, 133)\t0.22090593953660845\n",
            "  (0, 22368)\t0.2002602023544721\n",
            "  (0, 45199)\t0.13525864049253178\n",
            "  (0, 51274)\t0.1442905517241004\n",
            "  (0, 97659)\t0.15624603541823798\n",
            "  (0, 48569)\t0.15624603541823798\n",
            "  (0, 98052)\t0.10370154988897431\n",
            "  (0, 54890)\t0.15624603541823798\n",
            "  (0, 83108)\t0.05938820154366916\n",
            "  (0, 93510)\t0.13725272850857811\n",
            "  (0, 118)\t0.08720409882997852\n",
            "  (0, 20129)\t0.15624603541823798\n",
            "  (0, 88842)\t0.08398142638013377\n",
            "  (0, 27232)\t0.13184513198187803\n",
            "  (0, 49938)\t0.1124247226389579\n",
            "  (0, 41921)\t0.15624603541823798\n",
            "  (0, 38021)\t0.12569782125101708\n",
            "  :\t:\n",
            "  (21999, 55959)\t0.1931570365935756\n",
            "  (21999, 28887)\t0.1846507124267984\n",
            "  (21999, 81064)\t0.1931570365935756\n",
            "  (21999, 4546)\t0.17010905521579694\n",
            "  (21999, 33488)\t0.16160273104901973\n",
            "  (21999, 81952)\t0.17258004633834997\n",
            "  (21999, 98955)\t0.20166336076035282\n",
            "  (21999, 4533)\t0.1567665344711859\n",
            "  (21999, 31476)\t0.1358832734226447\n",
            "  (21999, 14665)\t0.1804408064392323\n",
            "  (21999, 83008)\t0.11856876122295074\n",
            "  (21999, 53832)\t0.10392744027703323\n",
            "  (21999, 5665)\t0.1413191606361752\n",
            "  (21999, 34654)\t0.12263486000482741\n",
            "  (21999, 25293)\t0.11376785342844942\n",
            "  (21999, 65187)\t0.1102631962603903\n",
            "  (21999, 63436)\t0.08409684856827282\n",
            "  (21999, 100274)\t0.09416681480339066\n",
            "  (21999, 78666)\t0.16777084253758942\n",
            "  (21999, 75660)\t0.0697590156353634\n",
            "  (21999, 21354)\t0.07424380480159055\n",
            "  (21999, 24210)\t0.08801473590004587\n",
            "  (21999, 18565)\t0.12332612645009716\n",
            "  (21999, 13861)\t0.1494404166511145\n",
            "  (21999, 19334)\t0.18096869797387202\n"
          ]
        }
      ]
    },
    {
      "cell_type": "code",
      "source": [
        "#splitting the data of X and Y variable into training data and testing data\n",
        "from sklearn.model_selection import train_test_split\n",
        "x_train,x_test,y_train,y_test = train_test_split(X,Y,test_size = 0.2)"
      ],
      "metadata": {
        "id": "5-9cmX9oh1yA"
      },
      "execution_count": 13,
      "outputs": []
    },
    {
      "cell_type": "markdown",
      "source": [
        "##Model-1 Logistic Regression"
      ],
      "metadata": {
        "id": "yi9nCcDwhGCj"
      }
    },
    {
      "cell_type": "code",
      "source": [
        "#Importing 1st classification algorithm & modelling it with training data\n",
        "from sklearn.linear_model import LogisticRegression\n",
        "model1 = LogisticRegression()\n",
        "model1.fit(x_train,y_train)"
      ],
      "metadata": {
        "colab": {
          "base_uri": "https://localhost:8080/"
        },
        "id": "_4M54ABTiA-u",
        "outputId": "3f73dee7-3ec7-4c8c-dcd3-d5b294d681a7"
      },
      "execution_count": 14,
      "outputs": [
        {
          "output_type": "execute_result",
          "data": {
            "text/plain": [
              "LogisticRegression()"
            ]
          },
          "metadata": {},
          "execution_count": 14
        }
      ]
    },
    {
      "cell_type": "code",
      "source": [
        "#predicting \n",
        "y1_pred = model1.predict(x_test)"
      ],
      "metadata": {
        "id": "g7LwLwrbi1Yf"
      },
      "execution_count": 15,
      "outputs": []
    },
    {
      "cell_type": "code",
      "source": [
        "y1_pred"
      ],
      "metadata": {
        "colab": {
          "base_uri": "https://localhost:8080/"
        },
        "id": "-zllpNkHi6XD",
        "outputId": "aa4c3155-1ed2-4cfc-f0f5-b50467dae681"
      },
      "execution_count": 16,
      "outputs": [
        {
          "output_type": "execute_result",
          "data": {
            "text/plain": [
              "array([ 7, 13, 20, ..., 18, 16, 20])"
            ]
          },
          "metadata": {},
          "execution_count": 16
        }
      ]
    },
    {
      "cell_type": "code",
      "source": [
        "from sklearn.metrics import classification_report\n",
        "print(classification_report(y_test,y1_pred))\n"
      ],
      "metadata": {
        "colab": {
          "base_uri": "https://localhost:8080/"
        },
        "id": "qrFovhH7i8CR",
        "outputId": "ce833be7-b0cf-4f3e-ddcb-d11669f74758"
      },
      "execution_count": 19,
      "outputs": [
        {
          "output_type": "stream",
          "name": "stdout",
          "text": [
            "              precision    recall  f1-score   support\n",
            "\n",
            "           0       0.99      0.98      0.99       204\n",
            "           1       0.54      0.98      0.70       193\n",
            "           2       1.00      0.97      0.98       224\n",
            "           3       0.81      0.96      0.88       193\n",
            "           4       0.98      0.95      0.97       205\n",
            "           5       0.97      0.97      0.97       179\n",
            "           6       1.00      0.96      0.98       195\n",
            "           7       1.00      0.95      0.98       196\n",
            "           8       0.95      0.59      0.73       221\n",
            "           9       1.00      0.97      0.98       203\n",
            "          10       0.97      0.94      0.95       211\n",
            "          11       1.00      0.96      0.98       226\n",
            "          12       0.98      0.96      0.97       203\n",
            "          13       1.00      0.93      0.96       206\n",
            "          14       1.00      0.99      0.99       198\n",
            "          15       1.00      0.96      0.98       181\n",
            "          16       0.96      0.96      0.96       162\n",
            "          17       1.00      1.00      1.00       203\n",
            "          18       1.00      0.99      1.00       195\n",
            "          19       1.00      0.99      1.00       203\n",
            "          20       0.99      0.94      0.97       190\n",
            "          21       1.00      0.97      0.98       209\n",
            "\n",
            "    accuracy                           0.95      4400\n",
            "   macro avg       0.96      0.95      0.95      4400\n",
            "weighted avg       0.96      0.95      0.95      4400\n",
            "\n"
          ]
        }
      ]
    },
    {
      "cell_type": "markdown",
      "source": [
        "###Observation : The accuracy we are getting with Logistic Regression is approximately 95%. "
      ],
      "metadata": {
        "id": "o-v2sxvevfkl"
      }
    },
    {
      "cell_type": "markdown",
      "source": [
        "##Model - 2 Decision Tree Classifier"
      ],
      "metadata": {
        "id": "MA22tJcshZhg"
      }
    },
    {
      "cell_type": "code",
      "source": [
        "#Importing 2st classification algorithm & modelling it with training data\n",
        "from sklearn.tree import DecisionTreeClassifier\n",
        "model2 = DecisionTreeClassifier()\n",
        "model2.fit(x_train,y_train)"
      ],
      "metadata": {
        "id": "S-1kh-J3m-dF",
        "colab": {
          "base_uri": "https://localhost:8080/"
        },
        "outputId": "aea68658-8624-4ea7-e642-ac3e3e9facae"
      },
      "execution_count": 20,
      "outputs": [
        {
          "output_type": "execute_result",
          "data": {
            "text/plain": [
              "DecisionTreeClassifier()"
            ]
          },
          "metadata": {},
          "execution_count": 20
        }
      ]
    },
    {
      "cell_type": "code",
      "source": [
        "#predicting\n",
        "y2_pred = model2.predict(x_test)"
      ],
      "metadata": {
        "id": "36sI2UiThmdw"
      },
      "execution_count": 21,
      "outputs": []
    },
    {
      "cell_type": "code",
      "source": [
        "y2_pred"
      ],
      "metadata": {
        "colab": {
          "base_uri": "https://localhost:8080/"
        },
        "id": "qxWkYHKPhmaT",
        "outputId": "5d59ce66-79c2-401a-fc19-6af201103f57"
      },
      "execution_count": 22,
      "outputs": [
        {
          "output_type": "execute_result",
          "data": {
            "text/plain": [
              "array([ 7, 13, 16, ..., 18, 16, 20])"
            ]
          },
          "metadata": {},
          "execution_count": 22
        }
      ]
    },
    {
      "cell_type": "code",
      "source": [
        "print(classification_report(y_test,y2_pred))"
      ],
      "metadata": {
        "colab": {
          "base_uri": "https://localhost:8080/"
        },
        "id": "I6SfcGNahmXl",
        "outputId": "43c6070f-64ce-4454-8f71-fd95b80ca74d"
      },
      "execution_count": 23,
      "outputs": [
        {
          "output_type": "stream",
          "name": "stdout",
          "text": [
            "              precision    recall  f1-score   support\n",
            "\n",
            "           0       0.99      0.99      0.99       204\n",
            "           1       0.73      0.41      0.53       193\n",
            "           2       0.43      0.92      0.59       224\n",
            "           3       0.82      0.87      0.85       193\n",
            "           4       0.78      0.85      0.81       205\n",
            "           5       0.91      0.89      0.90       179\n",
            "           6       0.98      0.96      0.97       195\n",
            "           7       0.95      0.88      0.92       196\n",
            "           8       0.91      0.45      0.60       221\n",
            "           9       0.99      0.92      0.95       203\n",
            "          10       0.84      0.85      0.84       211\n",
            "          11       1.00      0.98      0.99       226\n",
            "          12       0.91      0.89      0.90       203\n",
            "          13       0.99      0.95      0.97       206\n",
            "          14       0.92      0.90      0.91       198\n",
            "          15       1.00      0.90      0.95       181\n",
            "          16       0.80      0.86      0.83       162\n",
            "          17       0.99      0.98      0.99       203\n",
            "          18       0.99      0.98      0.99       195\n",
            "          19       0.97      0.96      0.97       203\n",
            "          20       0.86      0.84      0.85       190\n",
            "          21       1.00      0.97      0.98       209\n",
            "\n",
            "    accuracy                           0.87      4400\n",
            "   macro avg       0.90      0.87      0.88      4400\n",
            "weighted avg       0.90      0.87      0.87      4400\n",
            "\n"
          ]
        }
      ]
    },
    {
      "cell_type": "markdown",
      "source": [
        "###Observation : The accuracy we are getting with Decision Tree Classifier is approximately 87%."
      ],
      "metadata": {
        "id": "Ih9JLyOLv84D"
      }
    },
    {
      "cell_type": "markdown",
      "source": [
        "##Model - 3 Naive Bayes"
      ],
      "metadata": {
        "id": "yYu_3uzah7jQ"
      }
    },
    {
      "cell_type": "code",
      "source": [
        "#Importing 3rd classification algorithm & modelling it with training data\n",
        "from sklearn.naive_bayes import MultinomialNB\n",
        "model3 = MultinomialNB()\n",
        "model3.fit(x_train, y_train)"
      ],
      "metadata": {
        "colab": {
          "base_uri": "https://localhost:8080/"
        },
        "id": "yc6JlJd1hmSZ",
        "outputId": "bdada220-6d45-476e-8740-692808f5dc4a"
      },
      "execution_count": 24,
      "outputs": [
        {
          "output_type": "execute_result",
          "data": {
            "text/plain": [
              "MultinomialNB()"
            ]
          },
          "metadata": {},
          "execution_count": 24
        }
      ]
    },
    {
      "cell_type": "code",
      "source": [
        "#Predicting\n",
        "y3_pred = model3.predict(x_test)"
      ],
      "metadata": {
        "id": "vt9neNszhmPu"
      },
      "execution_count": 26,
      "outputs": []
    },
    {
      "cell_type": "code",
      "source": [
        "y3_pred"
      ],
      "metadata": {
        "colab": {
          "base_uri": "https://localhost:8080/"
        },
        "id": "rXR2OdaMhmMk",
        "outputId": "f1e55b4a-243d-41cf-edd2-191089246b4b"
      },
      "execution_count": 27,
      "outputs": [
        {
          "output_type": "execute_result",
          "data": {
            "text/plain": [
              "array([ 7, 13, 20, ..., 18, 16, 20])"
            ]
          },
          "metadata": {},
          "execution_count": 27
        }
      ]
    },
    {
      "cell_type": "code",
      "source": [
        "print(classification_report(y_test,y3_pred))"
      ],
      "metadata": {
        "colab": {
          "base_uri": "https://localhost:8080/"
        },
        "id": "J43MSM7AhmJY",
        "outputId": "fed5feb0-37c6-4fbb-a35b-0c88fa565b13"
      },
      "execution_count": 35,
      "outputs": [
        {
          "output_type": "stream",
          "name": "stdout",
          "text": [
            "              precision    recall  f1-score   support\n",
            "\n",
            "           0       1.00      1.00      1.00       204\n",
            "           1       0.97      0.48      0.64       193\n",
            "           2       0.97      0.98      0.98       224\n",
            "           3       0.64      1.00      0.78       193\n",
            "           4       0.98      0.95      0.97       205\n",
            "           5       0.91      0.99      0.95       179\n",
            "           6       0.99      0.97      0.98       195\n",
            "           7       0.97      0.96      0.97       196\n",
            "           8       0.99      0.57      0.72       221\n",
            "           9       1.00      0.98      0.99       203\n",
            "          10       0.94      0.93      0.94       211\n",
            "          11       1.00      1.00      1.00       226\n",
            "          12       0.98      0.93      0.96       203\n",
            "          13       0.99      0.95      0.97       206\n",
            "          14       1.00      0.99      1.00       198\n",
            "          15       0.99      0.99      0.99       181\n",
            "          16       0.55      0.98      0.70       162\n",
            "          17       1.00      1.00      1.00       203\n",
            "          18       1.00      1.00      1.00       195\n",
            "          19       1.00      1.00      1.00       203\n",
            "          20       0.99      0.95      0.97       190\n",
            "          21       1.00      0.98      0.99       209\n",
            "\n",
            "    accuracy                           0.93      4400\n",
            "   macro avg       0.95      0.93      0.93      4400\n",
            "weighted avg       0.95      0.93      0.93      4400\n",
            "\n"
          ]
        }
      ]
    },
    {
      "cell_type": "markdown",
      "source": [
        "###Observation : The accuracy we are getting with Naive Bayes is approximately 93%"
      ],
      "metadata": {
        "id": "S0LlrtSkweI1"
      }
    },
    {
      "cell_type": "markdown",
      "source": [
        "## Model - 4 KNearestNeighbors"
      ],
      "metadata": {
        "id": "1l9XZ7MzjB-5"
      }
    },
    {
      "cell_type": "code",
      "source": [
        "#Importing 4th classification algorithm & modelling it with training data\n",
        "from sklearn.neighbors import KNeighborsClassifier\n",
        "model4 = KNeighborsClassifier()\n",
        "model4.fit(x_train,y_train)"
      ],
      "metadata": {
        "colab": {
          "base_uri": "https://localhost:8080/"
        },
        "id": "soI8qGvvhmDu",
        "outputId": "d60670c4-e8a3-4627-fd7e-f1260579c35a"
      },
      "execution_count": 36,
      "outputs": [
        {
          "output_type": "execute_result",
          "data": {
            "text/plain": [
              "KNeighborsClassifier()"
            ]
          },
          "metadata": {},
          "execution_count": 36
        }
      ]
    },
    {
      "cell_type": "code",
      "source": [
        "#Predicting\n",
        "y4_pred = model4.predict(x_test)"
      ],
      "metadata": {
        "id": "8mDmt4-ujW8D"
      },
      "execution_count": 37,
      "outputs": []
    },
    {
      "cell_type": "code",
      "source": [
        "y4_pred"
      ],
      "metadata": {
        "colab": {
          "base_uri": "https://localhost:8080/"
        },
        "id": "v6FGPEixjapR",
        "outputId": "bc36a4d1-e6f5-4985-8eb5-4fafb98cd061"
      },
      "execution_count": 38,
      "outputs": [
        {
          "output_type": "execute_result",
          "data": {
            "text/plain": [
              "array([ 7, 13, 20, ..., 18, 16, 20])"
            ]
          },
          "metadata": {},
          "execution_count": 38
        }
      ]
    },
    {
      "cell_type": "code",
      "source": [
        "print(classification_report(y_test,y4_pred))"
      ],
      "metadata": {
        "colab": {
          "base_uri": "https://localhost:8080/"
        },
        "id": "VraFM2Y6jal2",
        "outputId": "e302b78a-3ad5-4e5b-cc29-d192637d86de"
      },
      "execution_count": 39,
      "outputs": [
        {
          "output_type": "stream",
          "name": "stdout",
          "text": [
            "              precision    recall  f1-score   support\n",
            "\n",
            "           0       0.99      0.99      0.99       204\n",
            "           1       0.79      0.69      0.73       193\n",
            "           2       0.84      1.00      0.91       224\n",
            "           3       0.76      0.98      0.86       193\n",
            "           4       0.98      0.93      0.95       205\n",
            "           5       0.96      0.98      0.97       179\n",
            "           6       0.99      0.97      0.98       195\n",
            "           7       0.97      0.96      0.97       196\n",
            "           8       0.99      0.47      0.64       221\n",
            "           9       0.72      0.97      0.83       203\n",
            "          10       0.93      0.93      0.93       211\n",
            "          11       1.00      1.00      1.00       226\n",
            "          12       0.98      0.97      0.97       203\n",
            "          13       0.98      0.95      0.97       206\n",
            "          14       0.99      0.98      0.99       198\n",
            "          15       0.99      0.99      0.99       181\n",
            "          16       0.96      0.96      0.96       162\n",
            "          17       0.97      1.00      0.98       203\n",
            "          18       1.00      1.00      1.00       195\n",
            "          19       1.00      1.00      1.00       203\n",
            "          20       0.97      0.96      0.97       190\n",
            "          21       1.00      0.96      0.98       209\n",
            "\n",
            "    accuracy                           0.94      4400\n",
            "   macro avg       0.94      0.94      0.93      4400\n",
            "weighted avg       0.94      0.94      0.93      4400\n",
            "\n"
          ]
        }
      ]
    },
    {
      "cell_type": "markdown",
      "source": [
        "####Observation : The accuracy we are getting with KNearestNeighbor is approximately 94%."
      ],
      "metadata": {
        "id": "33cv2W0Lw1_o"
      }
    },
    {
      "cell_type": "markdown",
      "source": [
        "## Model - 5 Random Forest"
      ],
      "metadata": {
        "id": "KW96qy00o-aH"
      }
    },
    {
      "cell_type": "code",
      "source": [
        "##Importing 5th classification algorithm & modelling it with training data\n",
        "from sklearn.ensemble import RandomForestClassifier\n",
        "model5 = RandomForestClassifier(n_estimators = 70,min_samples_leaf=30,oob_score = True,random_state = 0)\n",
        "model5.fit(x_train,y_train)"
      ],
      "metadata": {
        "colab": {
          "base_uri": "https://localhost:8080/"
        },
        "id": "d-56ktLFo92F",
        "outputId": "1c1a0bbf-0cb1-44d1-cfaf-bccb302de643"
      },
      "execution_count": 40,
      "outputs": [
        {
          "output_type": "execute_result",
          "data": {
            "text/plain": [
              "RandomForestClassifier(min_samples_leaf=30, n_estimators=70, oob_score=True,\n",
              "                       random_state=0)"
            ]
          },
          "metadata": {},
          "execution_count": 40
        }
      ]
    },
    {
      "cell_type": "code",
      "source": [
        "y5_pred = model5.predict(x_test)"
      ],
      "metadata": {
        "id": "vrapApbJo3UQ"
      },
      "execution_count": 41,
      "outputs": []
    },
    {
      "cell_type": "code",
      "source": [
        "y5_pred"
      ],
      "metadata": {
        "colab": {
          "base_uri": "https://localhost:8080/"
        },
        "id": "QRYCRDTVpnXt",
        "outputId": "795b6b69-a6ac-4b72-8c02-4f956ee16b01"
      },
      "execution_count": 42,
      "outputs": [
        {
          "output_type": "execute_result",
          "data": {
            "text/plain": [
              "array([ 7, 13, 20, ..., 18, 16, 20])"
            ]
          },
          "metadata": {},
          "execution_count": 42
        }
      ]
    },
    {
      "cell_type": "code",
      "source": [
        "print(classification_report(y_test,y5_pred))\n"
      ],
      "metadata": {
        "colab": {
          "base_uri": "https://localhost:8080/"
        },
        "id": "sAzBS0D_poMj",
        "outputId": "8bbee255-34a9-40bb-9b39-66a6dfefcc5f"
      },
      "execution_count": 44,
      "outputs": [
        {
          "output_type": "stream",
          "name": "stdout",
          "text": [
            "              precision    recall  f1-score   support\n",
            "\n",
            "           0       0.99      0.99      0.99       204\n",
            "           1       0.39      0.92      0.54       193\n",
            "           2       0.97      0.96      0.97       224\n",
            "           3       0.70      0.93      0.80       193\n",
            "           4       0.97      0.84      0.90       205\n",
            "           5       0.87      0.96      0.91       179\n",
            "           6       1.00      0.96      0.98       195\n",
            "           7       0.98      0.96      0.97       196\n",
            "           8       1.00      0.15      0.27       221\n",
            "           9       1.00      0.82      0.90       203\n",
            "          10       0.95      0.78      0.85       211\n",
            "          11       1.00      0.97      0.98       226\n",
            "          12       0.92      0.90      0.91       203\n",
            "          13       1.00      0.93      0.96       206\n",
            "          14       0.95      0.99      0.97       198\n",
            "          15       1.00      0.89      0.94       181\n",
            "          16       0.92      0.95      0.94       162\n",
            "          17       0.99      1.00      1.00       203\n",
            "          18       1.00      1.00      1.00       195\n",
            "          19       1.00      0.97      0.98       203\n",
            "          20       0.98      0.94      0.96       190\n",
            "          21       1.00      0.98      0.99       209\n",
            "\n",
            "    accuracy                           0.90      4400\n",
            "   macro avg       0.93      0.90      0.90      4400\n",
            "weighted avg       0.94      0.90      0.89      4400\n",
            "\n"
          ]
        }
      ]
    },
    {
      "cell_type": "markdown",
      "source": [
        "###Observation : The accuracy we are getting with Random Forest is approximately 90%."
      ],
      "metadata": {
        "id": "zbO0j5roxlxk"
      }
    },
    {
      "cell_type": "markdown",
      "source": [
        "## Model - 6 SVM (Support Vector Machines)"
      ],
      "metadata": {
        "id": "PfR1LuAYqCOx"
      }
    },
    {
      "cell_type": "code",
      "source": [
        "#Importing 6th classification algorithm & modelling it with training data\n",
        "from sklearn.svm import SVC\n",
        "model6 = SVC(kernel = 'linear',C = 0.025,random_state = 0)\n",
        "model6.fit(x_train,y_train)"
      ],
      "metadata": {
        "colab": {
          "base_uri": "https://localhost:8080/"
        },
        "id": "e8zMV7fzp4hM",
        "outputId": "35a83632-9f66-41d0-df4c-3c4aef9a1824"
      },
      "execution_count": 45,
      "outputs": [
        {
          "output_type": "execute_result",
          "data": {
            "text/plain": [
              "SVC(C=0.025, kernel='linear', random_state=0)"
            ]
          },
          "metadata": {},
          "execution_count": 45
        }
      ]
    },
    {
      "cell_type": "code",
      "source": [
        "y6_pred = model6.predict(x_test)"
      ],
      "metadata": {
        "id": "wrqZueyeqWH1"
      },
      "execution_count": 46,
      "outputs": []
    },
    {
      "cell_type": "code",
      "source": [
        "y6_pred"
      ],
      "metadata": {
        "colab": {
          "base_uri": "https://localhost:8080/"
        },
        "id": "5ZEIjf3Oqcsz",
        "outputId": "bdfefb0a-a3b2-486d-c3b2-522e8c6bac63"
      },
      "execution_count": 47,
      "outputs": [
        {
          "output_type": "execute_result",
          "data": {
            "text/plain": [
              "array([ 7, 15, 20, ..., 18, 16, 20])"
            ]
          },
          "metadata": {},
          "execution_count": 47
        }
      ]
    },
    {
      "cell_type": "code",
      "source": [
        "print(classification_report(y_test,y6_pred))"
      ],
      "metadata": {
        "colab": {
          "base_uri": "https://localhost:8080/"
        },
        "id": "Co5SRxwsqd07",
        "outputId": "741a619d-4ef8-4651-afc8-9e38e9817fbe"
      },
      "execution_count": 48,
      "outputs": [
        {
          "output_type": "stream",
          "name": "stdout",
          "text": [
            "              precision    recall  f1-score   support\n",
            "\n",
            "           0       1.00      0.65      0.79       204\n",
            "           1       0.00      0.01      0.00       193\n",
            "           2       1.00      0.82      0.90       224\n",
            "           3       0.86      0.80      0.83       193\n",
            "           4       1.00      0.00      0.01       205\n",
            "           5       1.00      0.82      0.90       179\n",
            "           6       1.00      0.81      0.90       195\n",
            "           7       1.00      0.72      0.84       196\n",
            "           8       0.00      0.00      0.00       221\n",
            "           9       0.00      0.00      0.00       203\n",
            "          10       1.00      0.19      0.32       211\n",
            "          11       1.00      0.86      0.93       226\n",
            "          12       0.99      0.76      0.86       203\n",
            "          13       1.00      0.79      0.88       206\n",
            "          14       1.00      0.67      0.80       198\n",
            "          15       0.13      1.00      0.23       181\n",
            "          16       1.00      0.84      0.91       162\n",
            "          17       1.00      0.77      0.87       203\n",
            "          18       1.00      0.91      0.95       195\n",
            "          19       0.00      0.00      0.00       203\n",
            "          20       0.99      0.79      0.88       190\n",
            "          21       1.00      0.73      0.85       209\n",
            "\n",
            "    accuracy                           0.58      4400\n",
            "   macro avg       0.77      0.59      0.62      4400\n",
            "weighted avg       0.77      0.58      0.62      4400\n",
            "\n"
          ]
        }
      ]
    },
    {
      "cell_type": "markdown",
      "source": [
        "###Observation : The accuracy we are getting with Support Vector Machine is approximately 58%."
      ],
      "metadata": {
        "id": "hwb8swoyylrN"
      }
    },
    {
      "cell_type": "markdown",
      "source": [
        "#Conclusion\n",
        "\n",
        "- Accuracy of Logistic Regression is 95%\n",
        "- Accuracy of Decision Tree Classifier is 87%\n",
        "- Accuracy of Naive Bayes is 93%\n",
        "- Accuracy of K-Nearest Neighbor is 94%\n",
        "- Accuracy of Random Forest is 90%\n",
        "- Accuracy of Support vector Machine is 58%\n",
        "\n",
        "###Cleary, We can tell that Logistic Regression, Naive Bayes, K-Nearest Neighbor and Random Forest these all algorithms are performing well into classifying language based on text."
      ],
      "metadata": {
        "id": "fmlONg-OyvPc"
      }
    },
    {
      "cell_type": "code",
      "source": [
        "def predict(text):\n",
        "  trans = tf.transform([text])\n",
        "\n",
        "  lang1 = model1.predict(trans)\n",
        "  lang1 = le.inverse_transform(lang1)\n",
        "  print(\"Prediction using Logistic Regression - The langauge is in\",lang1[0])\n",
        "\n",
        "  lang3 = model3.predict(trans)\n",
        "  lang3 = le.inverse_transform(lang3)\n",
        "  print(\"Prediction using Naive - Bayes - The langauge is in\",lang3[0])\n",
        "\n",
        "  lang4 = model4.predict(trans)\n",
        "  lang4 = le.inverse_transform(lang4)\n",
        "  print(\"Prediction using K-Nearest Neighbor - The langauge is in\",lang4[0])\n",
        "  \n",
        "  lang5 = model5.predict(trans)\n",
        "  lang5 = le.inverse_transform(lang5)\n",
        "  print(\"Prediction using Random Forest - The langauge is in\",lang5[0])\n",
        "  "
      ],
      "metadata": {
        "id": "aXXrYjMF0skd"
      },
      "execution_count": 54,
      "outputs": []
    },
    {
      "cell_type": "code",
      "source": [
        "predict('''A paragraph is a collection of words strung together to make a \n",
        "longer unit than a sentence. Several sentences often make to a paragraph. \n",
        "There are normally three to eight sentences in a paragraph. Paragraphs can \n",
        "start with a five-space indentation or by skipping a line and then starting over.''') #English"
      ],
      "metadata": {
        "colab": {
          "base_uri": "https://localhost:8080/"
        },
        "id": "9Yzjg6ky15G9",
        "outputId": "005102be-8986-44dd-ec00-8af5eb945e1a"
      },
      "execution_count": 58,
      "outputs": [
        {
          "output_type": "stream",
          "name": "stdout",
          "text": [
            "Prediction using Logistic Regression - The langauge is in English\n",
            "Prediction using Naive - Bayes - The langauge is in English\n",
            "Prediction using K-Nearest Neighbor - The langauge is in English\n",
            "Prediction using Random Forest - The langauge is in English\n"
          ]
        }
      ]
    },
    {
      "cell_type": "code",
      "source": [
        "predict('''இன்றைய நாகரிக வாழ்வில் விவசாய நிலங்களும் விவசாயிகளும் குறைந்து வருகின்றனர் ,\n",
        "இதன் காரணமாக குறைந்த இடத்தில அதிக மகசூல் கொடுக்கும் முறைகளை கையாள வேண்டிய நிர்பந்தத்திற்கு\n",
        "உள்ளாகி உள்ளனர்.இதன் காரணமாக அதிக மகசூல் முறைகளான செயற்கை உரமிடுதல் ,செயற்கை பூச்சி கொல்லிமருந்துகள்\n",
        "பயன்படுத்துவது சாதாரணமாக ஆகிவிட்டது.செயற்கை ரசாயனங்கள் தங்கள் வேலைகளை செய்வதோடு உணவு விளைபொருள்களிலும்\n",
        "இணைந்து நம்மை வந்தடைகிறது.''') #Tamil"
      ],
      "metadata": {
        "colab": {
          "base_uri": "https://localhost:8080/"
        },
        "id": "IGLT7d072E5F",
        "outputId": "f4a06b1b-1b42-45dc-d8ae-d7e81d1a3e5b"
      },
      "execution_count": 59,
      "outputs": [
        {
          "output_type": "stream",
          "name": "stdout",
          "text": [
            "Prediction using Logistic Regression - The langauge is in Tamil\n",
            "Prediction using Naive - Bayes - The langauge is in Tamil\n",
            "Prediction using K-Nearest Neighbor - The langauge is in Tamil\n",
            "Prediction using Random Forest - The langauge is in Tamil\n"
          ]
        }
      ]
    },
    {
      "cell_type": "code",
      "source": [
        "predict('''有它本来在夏威夷语的含义，但这里指的应该是一个小的知识“块”，而“基”字可以作基石讲，\n",
        "所以我觉得“基”可以接受。“维”字，本意“系物的大绳” （《高级汉语大词典》），也可以作“网”讲（《集韵》：维,网也），\n",
        "所以“维”字也是可以接受的。可以参照的一个译法是 ''') #Chinese"
      ],
      "metadata": {
        "colab": {
          "base_uri": "https://localhost:8080/"
        },
        "id": "9h2PMWCK3k1j",
        "outputId": "5ad9a327-1b3c-483c-e3cf-659a30f17bd7"
      },
      "execution_count": 60,
      "outputs": [
        {
          "output_type": "stream",
          "name": "stdout",
          "text": [
            "Prediction using Logistic Regression - The langauge is in Chinese\n",
            "Prediction using Naive - Bayes - The langauge is in Chinese\n",
            "Prediction using K-Nearest Neighbor - The langauge is in Chinese\n",
            "Prediction using Random Forest - The langauge is in Chinese\n"
          ]
        }
      ]
    },
    {
      "cell_type": "code",
      "source": [
        "predict('''いや、そのような法律はないよ。日本の国語は日本語であるとか、公用語は日本語であるなどと定める条文はないんだ。ただ、法律上「国語」という用例はあるし、\n",
        "そのような条文は日本語のことを国語といっているのだと理解できるよ。例えば、小学校などで義務教育として行われる普通教育では「読書に親しませ、\n",
        "生活に必要な国語を正しく理解し、使用する基礎的な能力を養うこと」（学校教育法（昭和22年法律第26号）第21条第５号）が、その教育の目標とされているけれど、\n",
        "この「国語」は日本語のことでしょう。「国語＝日本語」という一対一対応の関係は、国内の少数言語の話し手や複数の公用語が使用されている国の人から見れば、\n",
        "自明のこととはいえないのだろうけれど。法律上「日本語」という用語を使うのは、例えば「日本語教育の推進に関する法律」（令和元年法律第48号）のように、外国人が、あるいは外国人も、\n",
        "用いることを想定しているような場合が多いかもしれないね   ''')   #Japanese"
      ],
      "metadata": {
        "colab": {
          "base_uri": "https://localhost:8080/"
        },
        "id": "lPpVK3-C4vaO",
        "outputId": "432161a5-b909-430d-ed9c-51b499fe008a"
      },
      "execution_count": 61,
      "outputs": [
        {
          "output_type": "stream",
          "name": "stdout",
          "text": [
            "Prediction using Logistic Regression - The langauge is in Japanese\n",
            "Prediction using Naive - Bayes - The langauge is in Japanese\n",
            "Prediction using K-Nearest Neighbor - The langauge is in Japanese\n",
            "Prediction using Random Forest - The langauge is in Chinese\n"
          ]
        }
      ]
    },
    {
      "cell_type": "code",
      "source": [
        "predict(''' Nasafjällsverket har fått dåligt eftermäle eftersom verksamheten under den första perioden bedrevs med tvångsrekryterad arbetskraft. \n",
        "Själva gruvbrytningen utfördes till stor del av män från kustsocknarna som uttagits till krigstjänst. Malmtransporterna sköttes av samer med rendragna ackjor.\n",
        " De fick ersättning för arbetet, men kunde inte själva välja om de skulle utföra skjutsarna. Renskötseln blev lidande och många samer lämnade regionen, \n",
        " vilket ledde till att de som blev kvar fick tjänstgöra i allt längre perioder och utsattes för allt hårdare press. Många är berättelserna om de hårda \n",
        " bestraffningar och tvångsåtgärder som samerna utsattes för med anledning av Nasafjälls silververk. Det finns dock få belägg för vilka åtgärder som faktiskt \n",
        " vidtogs''')   #Swedish"
      ],
      "metadata": {
        "colab": {
          "base_uri": "https://localhost:8080/"
        },
        "id": "jrY4DhZR5FMx",
        "outputId": "db6f41bb-5323-4625-f3aa-3c75afcb436e"
      },
      "execution_count": 62,
      "outputs": [
        {
          "output_type": "stream",
          "name": "stdout",
          "text": [
            "Prediction using Logistic Regression - The langauge is in Swedish\n",
            "Prediction using Naive - Bayes - The langauge is in Swedish\n",
            "Prediction using K-Nearest Neighbor - The langauge is in Swedish\n",
            "Prediction using Random Forest - The langauge is in Swedish\n"
          ]
        }
      ]
    },
    {
      "cell_type": "code",
      "source": [
        "predict('''Современная католическая экклезиология, основываясь на текстах Нового Завета и раннехристианского Предания, называет преемников апостола \n",
        "Петра на римском престоле «наместниками Христа». Католическую претензию на божественную обусловленность первенства Рима отрицают все прочие христианские \n",
        "конфессии. В некоторых восточных церквях за папой римским признаётся только почётное право быть «первым среди равных», не считая, что это даёт ему какую-либо\n",
        " власть. В других церквях признаётся вытекающая из этого права власть выражать, олицетворять и осуществлять в одном епископе власть всей церкви. \n",
        " Римско-католическая церковь считает примат папы «полной, высшей и всеобщей осуществляемой беспрепятственно властью над всей Церковью». Эта власть также \n",
        " принадлежит коллегии епископов, находящейся в единении с папой.  ''')   #Russian"
      ],
      "metadata": {
        "colab": {
          "base_uri": "https://localhost:8080/"
        },
        "id": "KR4Gq4D86C-O",
        "outputId": "04a7c324-e945-4a8d-c456-3944134a5ccf"
      },
      "execution_count": 63,
      "outputs": [
        {
          "output_type": "stream",
          "name": "stdout",
          "text": [
            "Prediction using Logistic Regression - The langauge is in Russian\n",
            "Prediction using Naive - Bayes - The langauge is in Russian\n",
            "Prediction using K-Nearest Neighbor - The langauge is in Russian\n",
            "Prediction using Random Forest - The langauge is in Russian\n"
          ]
        }
      ]
    },
    {
      "cell_type": "code",
      "source": [
        "predict('''Primul Mare Premiu al Campionatului Mondial s-a ținut în 1950 la Silverstone. De atunci, 73 de circuite au mai găzduit Mari Premii. \n",
        "Mai multe circuite cum ar fi Nürburgring, au găzduit Mari Premii utilizând diferite configurații. Prima cursă la Nürburgring a folosit configurația de \n",
        "22,835 km, dar îngrijorările legate de siguranță au rezultat ca Marile Premii recente să folosească un circuit mai scurt, dar mai sigur. \n",
        "În primii ani ai campionatului de Formula 1, circuitele se aflau predominant în Europa. Pe măsură ce sportul și-a extins aria de practicare, s-au înmulțit\n",
        " și circuitele în întreaga lume. Extinderea în Asia și America este un fenomen mai recent. Din cele 20 de circuite care găzduiesc Mari Premii în 2021,\n",
        "  aproape jumătate nu au existat pe calendarul F1 înainte de 1999. ''')    #Romanian"
      ],
      "metadata": {
        "colab": {
          "base_uri": "https://localhost:8080/"
        },
        "id": "s8sOcKTG6Xl4",
        "outputId": "aeb752f7-36cd-4f7e-dd34-617106851972"
      },
      "execution_count": 64,
      "outputs": [
        {
          "output_type": "stream",
          "name": "stdout",
          "text": [
            "Prediction using Logistic Regression - The langauge is in Romanian\n",
            "Prediction using Naive - Bayes - The langauge is in Romanian\n",
            "Prediction using K-Nearest Neighbor - The langauge is in Romanian\n",
            "Prediction using Random Forest - The langauge is in Romanian\n"
          ]
        }
      ]
    },
    {
      "cell_type": "code",
      "source": [
        "predict('''ग्लेशियर नेशनल पार्क अमेरिकी राष्ट्रीय उद्यान है, जो कि कनाडा-संयुक्त राज्य अमेरिका की सीमा पर स्थित है। उद्यान संयुक्त राज्य के उत्तर-पश्चिमी मोंटाना राज्य में स्थित है और कनाडा\n",
        " की ओर अल्बर्टा और ब्रिटिश कोलम्बिया प्रांतों से सटा हुआ है। उद्यान दस लाख एकड़ (4,000 किमी2) से अधिक क्षेत्र में फैला हुआ है और इसमें दो पर्वत श्रृंखला (रॉकी पर्वत की उप-श्रेणियाँ),\n",
        "  130 से अधिक नामित झीलें, 1,000 से अधिक विभिन्न पौधों की प्रजातियां और सैकड़ों वन्यजीवों की प्रजातियां शामिल हैं। इस विशाल प्राचीन पारिस्थितिकी तंत्र को जो कि 16,000 वर्ग मील (41,000 किमी2)\n",
        "   में शामिल संरक्षित भूमि का भाग है, \"क्राउन ऑफ़ द कॉन्टिनेंट इकोसिस्टम\" के रूप में संदर्भित किया गया है ''')    #Hindi"
      ],
      "metadata": {
        "colab": {
          "base_uri": "https://localhost:8080/"
        },
        "id": "BuDYlwfI6uUe",
        "outputId": "d39a6913-3adc-4d91-bc43-c94c01f41374"
      },
      "execution_count": 65,
      "outputs": [
        {
          "output_type": "stream",
          "name": "stdout",
          "text": [
            "Prediction using Logistic Regression - The langauge is in Hindi\n",
            "Prediction using Naive - Bayes - The langauge is in Hindi\n",
            "Prediction using K-Nearest Neighbor - The langauge is in Hindi\n",
            "Prediction using Random Forest - The langauge is in Hindi\n"
          ]
        }
      ]
    },
    {
      "cell_type": "code",
      "source": [
        "predict('''کراچی،         معروف آن لائن انسائیکلوپیڈیا 'وکی پیڈیا' کے پاکستانی صارفین کا ایک اجلاس اتوار کو کراچی میں منعقد ہوا جس میں پاکستان میں وکی پیڈیا کے ذریعے معلومات کے آزادانہ پھیلاو اور اردو و مقامی زبانوں میں معلومات کی زیادہ سے زیادہ فراہمی کے عمل کا جائزہ لیا گیا اور اسے مزید بہتر بنانے کے لیے تجاویز اکٹھی کی گئیں۔ اجلاس میں انگریزی وکی پیڈیا پر پاکستانی صارفین کو متحرک کرنے، مضامین میں تخریب کاری کو روکنے، اردو وکی پیڈیا کی ترویج و تشہیر، آن لائن کمیونٹی کو وکی پیڈیا کی جانب راغب کرنے کے لیے\n",
        " اقدامات تجویز کیے گئے اور ان پر عمل کے لیے لائحہ عمل طے کیا گیا۔ اس موقع پر اجلاس کے لیے وکی پیڈیا کے بانی اور وکی میڈیا فاونڈیشن کے سابق چیئرمین جمبو ویلز \n",
        "  کا خصوصی پیغام بھی پڑھ کر سنایا گیا جس میں انہوں نے نیک خواہشات کے اظہار کے ساتھ اردو وکیپیڈیا پر خصوصی توجہ رکھنے پر زور دیا۔ اجلاس میں پاکستان کے حوالے سے مضامین تحریر کرنے، موجودہ مضامین میں اضافے، تصاویر کی فراہمی، وکیپیڈیا کی \n",
        "  مناسب تشہیر اور انگریزی مضامین کے اردو ترجمے کے لیے کام کرنے\n",
        "   کا فیصلہ کیا گیا۔ اجلاس میں ثاقب قیوم چودھری، رابعہ ظفر، فہد کیہر، محمد علی مکی، احمد ندیم اعوان اور جمال عبد اللہ عثمان نے شرکت کی۔''')  #Urdu"
      ],
      "metadata": {
        "colab": {
          "base_uri": "https://localhost:8080/"
        },
        "id": "cMMF8bF168v5",
        "outputId": "ed68a58c-cff1-4a2c-b077-79125812c02f"
      },
      "execution_count": 66,
      "outputs": [
        {
          "output_type": "stream",
          "name": "stdout",
          "text": [
            "Prediction using Logistic Regression - The langauge is in Urdu\n",
            "Prediction using Naive - Bayes - The langauge is in Urdu\n",
            "Prediction using K-Nearest Neighbor - The langauge is in Urdu\n",
            "Prediction using Random Forest - The langauge is in Urdu\n"
          ]
        }
      ]
    },
    {
      "cell_type": "markdown",
      "source": [
        "#**The End**"
      ],
      "metadata": {
        "id": "Wk5mQhwf-JcK"
      }
    }
  ]
}